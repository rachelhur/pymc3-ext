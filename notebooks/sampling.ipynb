{
 "cells": [
  {
   "cell_type": "code",
   "execution_count": 1,
   "metadata": {
    "execution": {
     "iopub.execute_input": "2020-10-06T15:31:14.047250Z",
     "iopub.status.busy": "2020-10-06T15:31:14.046584Z",
     "iopub.status.idle": "2020-10-06T15:31:14.335350Z",
     "shell.execute_reply": "2020-10-06T15:31:14.335828Z"
    }
   },
   "outputs": [],
   "source": [
    "%matplotlib inline"
   ]
  },
  {
   "cell_type": "code",
   "execution_count": 2,
   "metadata": {
    "execution": {
     "iopub.execute_input": "2020-10-06T15:31:14.345373Z",
     "iopub.status.busy": "2020-10-06T15:31:14.340074Z",
     "iopub.status.idle": "2020-10-06T15:31:14.352359Z",
     "shell.execute_reply": "2020-10-06T15:31:14.351507Z"
    }
   },
   "outputs": [],
   "source": [
    "%run notebook_setup"
   ]
  },
  {
   "cell_type": "markdown",
   "metadata": {},
   "source": [
    "# Sampling\n",
    "\n",
    "`pymc3-ext` comes with some functions to make sampling more flexible in some cases and improve the default parameter choices for the types of problems encountered in astrophysics.\n",
    "These features are accessed through the `pymc3_ext.sample` function that behaves mostly like the `pymc3.sample` function with a couple of different arguments.\n",
    "The two main differences for all users is that the `pymc3_ext.sample` function defaults to a target acceptance fraction of `0.9` (which will be better for many models in astrophysics) and to adapting a full dense mass matrix (instead of diagonal).\n",
    "Therefore, if there are covariances between parameters, this method will generally perform better than the PyMC3 defaults.\n",
    "\n",
    "## Correlated parameters\n",
    "\n",
    "A thorough discussion of this [can be found elsewhere online](https://dfm.io/posts/pymc3-mass-matrix/), but here is a simple demo where we sample a covariant Gaussian using `pymc3_ext.sample`.\n",
    "\n",
    "First, we generate a random positive definite covariance matrix for the Gaussian:"
   ]
  },
  {
   "cell_type": "code",
   "execution_count": 3,
   "metadata": {
    "execution": {
     "iopub.execute_input": "2020-10-06T15:31:14.365769Z",
     "iopub.status.busy": "2020-10-06T15:31:14.364847Z",
     "iopub.status.idle": "2020-10-06T15:31:14.380020Z",
     "shell.execute_reply": "2020-10-06T15:31:14.379006Z"
    }
   },
   "outputs": [],
   "source": [
    "import numpy as np\n",
    "\n",
    "ndim = 5\n",
    "np.random.seed(42)\n",
    "L = np.random.randn(ndim, ndim)\n",
    "L[np.diag_indices_from(L)] = 0.1 * np.exp(L[np.diag_indices_from(L)])\n",
    "L[np.triu_indices_from(L, 1)] = 0.0\n",
    "cov = np.dot(L, L.T)"
   ]
  },
  {
   "cell_type": "markdown",
   "metadata": {},
   "source": [
    "And then we can set up this model using PyMC3:"
   ]
  },
  {
   "cell_type": "code",
   "execution_count": 4,
   "metadata": {
    "execution": {
     "iopub.execute_input": "2020-10-06T15:31:14.384729Z",
     "iopub.status.busy": "2020-10-06T15:31:14.383649Z",
     "iopub.status.idle": "2020-10-06T15:31:32.031483Z",
     "shell.execute_reply": "2020-10-06T15:31:32.030595Z"
    }
   },
   "outputs": [],
   "source": [
    "import pymc3 as pm\n",
    "\n",
    "with pm.Model() as model:\n",
    "    pm.MvNormal(\"x\", mu=np.zeros(ndim), chol=L, shape=ndim)"
   ]
  },
  {
   "cell_type": "markdown",
   "metadata": {},
   "source": [
    "If we sample this using PyMC3 default sampling method, things don't go so well (we're only doing a small number of steps because we don't want it to take forever, but things don't get better if you run for longer!):"
   ]
  },
  {
   "cell_type": "code",
   "execution_count": 5,
   "metadata": {
    "execution": {
     "iopub.execute_input": "2020-10-06T15:31:32.037339Z",
     "iopub.status.busy": "2020-10-06T15:31:32.036665Z",
     "iopub.status.idle": "2020-10-06T15:34:24.159540Z",
     "shell.execute_reply": "2020-10-06T15:34:24.160035Z"
    }
   },
   "outputs": [
    {
     "name": "stderr",
     "output_type": "stream",
     "text": [
      "Auto-assigning NUTS sampler...\n"
     ]
    },
    {
     "name": "stderr",
     "output_type": "stream",
     "text": [
      "Initializing NUTS using jitter+adapt_diag...\n"
     ]
    },
    {
     "name": "stderr",
     "output_type": "stream",
     "text": [
      "Multiprocess sampling (2 chains in 2 jobs)\n"
     ]
    },
    {
     "name": "stderr",
     "output_type": "stream",
     "text": [
      "NUTS: [x]\n"
     ]
    },
    {
     "data": {
      "text/html": [
       "\n",
       "    <div>\n",
       "        <style>\n",
       "            /* Turns off some styling */\n",
       "            progress {\n",
       "                /* gets rid of default border in Firefox and Opera. */\n",
       "                border: none;\n",
       "                /* Needs to be in here for Safari polyfill so background images work as expected. */\n",
       "                background-size: auto;\n",
       "            }\n",
       "            .progress-bar-interrupted, .progress-bar-interrupted::-webkit-progress-bar {\n",
       "                background: #F44336;\n",
       "            }\n",
       "        </style>\n",
       "      <progress value='2000' class='' max='2000' style='width:300px; height:20px; vertical-align: middle;'></progress>\n",
       "      100.00% [2000/2000 02:27<00:00 Sampling 2 chains, 0 divergences]\n",
       "    </div>\n",
       "    "
      ],
      "text/plain": [
       "<IPython.core.display.HTML object>"
      ]
     },
     "metadata": {},
     "output_type": "display_data"
    },
    {
     "name": "stderr",
     "output_type": "stream",
     "text": [
      "Sampling 2 chains for 500 tune and 500 draw iterations (1_000 + 1_000 draws total) took 148 seconds.\n"
     ]
    },
    {
     "name": "stderr",
     "output_type": "stream",
     "text": [
      "The chain reached the maximum tree depth. Increase max_treedepth, increase target_accept or reparameterize.\n"
     ]
    },
    {
     "name": "stderr",
     "output_type": "stream",
     "text": [
      "The chain reached the maximum tree depth. Increase max_treedepth, increase target_accept or reparameterize.\n"
     ]
    },
    {
     "name": "stderr",
     "output_type": "stream",
     "text": [
      "The rhat statistic is larger than 1.05 for some parameters. This indicates slight problems during sampling.\n"
     ]
    },
    {
     "name": "stderr",
     "output_type": "stream",
     "text": [
      "The estimated number of effective samples is smaller than 200 for some parameters.\n"
     ]
    }
   ],
   "source": [
    "with model:\n",
    "    trace = pm.sample(tune=500, draws=500, chains=2, cores=2)"
   ]
  },
  {
   "cell_type": "markdown",
   "metadata": {},
   "source": [
    "But, we can use `pymc3_ext.sample` as a drop in replacement to get much better performance:"
   ]
  },
  {
   "cell_type": "code",
   "execution_count": 6,
   "metadata": {
    "execution": {
     "iopub.execute_input": "2020-10-06T15:34:24.165509Z",
     "iopub.status.busy": "2020-10-06T15:34:24.164097Z",
     "iopub.status.idle": "2020-10-06T15:34:33.712988Z",
     "shell.execute_reply": "2020-10-06T15:34:33.712490Z"
    }
   },
   "outputs": [
    {
     "name": "stderr",
     "output_type": "stream",
     "text": [
      "Multiprocess sampling (2 chains in 2 jobs)\n"
     ]
    },
    {
     "name": "stderr",
     "output_type": "stream",
     "text": [
      "NUTS: [x]\n"
     ]
    },
    {
     "data": {
      "text/html": [
       "\n",
       "    <div>\n",
       "        <style>\n",
       "            /* Turns off some styling */\n",
       "            progress {\n",
       "                /* gets rid of default border in Firefox and Opera. */\n",
       "                border: none;\n",
       "                /* Needs to be in here for Safari polyfill so background images work as expected. */\n",
       "                background-size: auto;\n",
       "            }\n",
       "            .progress-bar-interrupted, .progress-bar-interrupted::-webkit-progress-bar {\n",
       "                background: #F44336;\n",
       "            }\n",
       "        </style>\n",
       "      <progress value='4000' class='' max='4000' style='width:300px; height:20px; vertical-align: middle;'></progress>\n",
       "      100.00% [4000/4000 00:09<00:00 Sampling 2 chains, 0 divergences]\n",
       "    </div>\n",
       "    "
      ],
      "text/plain": [
       "<IPython.core.display.HTML object>"
      ]
     },
     "metadata": {},
     "output_type": "display_data"
    },
    {
     "name": "stderr",
     "output_type": "stream",
     "text": [
      "Sampling 2 chains for 1_000 tune and 1_000 draw iterations (2_000 + 2_000 draws total) took 9 seconds.\n"
     ]
    }
   ],
   "source": [
    "import pymc3_ext as pmx\n",
    "\n",
    "with model:\n",
    "    tracex = pmx.sample(tune=1000, draws=1000, chains=2, cores=2)"
   ]
  },
  {
   "cell_type": "markdown",
   "metadata": {},
   "source": [
    "As you can see, this is substantially faster (even though we generated twice as many samples).\n",
    "\n",
    "We can compare the sampling summaries to confirm that the default method did not produce reliable results in this case, while the `pymc3_ext` version did:"
   ]
  },
  {
   "cell_type": "code",
   "execution_count": 7,
   "metadata": {
    "execution": {
     "iopub.execute_input": "2020-10-06T15:34:33.724989Z",
     "iopub.status.busy": "2020-10-06T15:34:33.717317Z",
     "iopub.status.idle": "2020-10-06T15:34:33.841158Z",
     "shell.execute_reply": "2020-10-06T15:34:33.840516Z"
    }
   },
   "outputs": [
    {
     "data": {
      "text/html": [
       "<div>\n",
       "<style scoped>\n",
       "    .dataframe tbody tr th:only-of-type {\n",
       "        vertical-align: middle;\n",
       "    }\n",
       "\n",
       "    .dataframe tbody tr th {\n",
       "        vertical-align: top;\n",
       "    }\n",
       "\n",
       "    .dataframe thead th {\n",
       "        text-align: right;\n",
       "    }\n",
       "</style>\n",
       "<table border=\"1\" class=\"dataframe\">\n",
       "  <thead>\n",
       "    <tr style=\"text-align: right;\">\n",
       "      <th></th>\n",
       "      <th>mean</th>\n",
       "      <th>sd</th>\n",
       "      <th>hdi_3%</th>\n",
       "      <th>hdi_97%</th>\n",
       "      <th>mcse_mean</th>\n",
       "      <th>mcse_sd</th>\n",
       "      <th>ess_mean</th>\n",
       "      <th>ess_sd</th>\n",
       "      <th>ess_bulk</th>\n",
       "      <th>ess_tail</th>\n",
       "      <th>r_hat</th>\n",
       "    </tr>\n",
       "  </thead>\n",
       "  <tbody>\n",
       "    <tr>\n",
       "      <th>x[0]</th>\n",
       "      <td>0.035</td>\n",
       "      <td>0.153</td>\n",
       "      <td>-0.277</td>\n",
       "      <td>0.283</td>\n",
       "      <td>0.033</td>\n",
       "      <td>0.023</td>\n",
       "      <td>22.0</td>\n",
       "      <td>22.0</td>\n",
       "      <td>22.0</td>\n",
       "      <td>136.0</td>\n",
       "      <td>1.08</td>\n",
       "    </tr>\n",
       "    <tr>\n",
       "      <th>x[1]</th>\n",
       "      <td>-0.023</td>\n",
       "      <td>0.557</td>\n",
       "      <td>-1.023</td>\n",
       "      <td>1.060</td>\n",
       "      <td>0.069</td>\n",
       "      <td>0.049</td>\n",
       "      <td>65.0</td>\n",
       "      <td>65.0</td>\n",
       "      <td>64.0</td>\n",
       "      <td>93.0</td>\n",
       "      <td>1.02</td>\n",
       "    </tr>\n",
       "    <tr>\n",
       "      <th>x[2]</th>\n",
       "      <td>-0.131</td>\n",
       "      <td>0.621</td>\n",
       "      <td>-1.251</td>\n",
       "      <td>1.042</td>\n",
       "      <td>0.146</td>\n",
       "      <td>0.105</td>\n",
       "      <td>18.0</td>\n",
       "      <td>18.0</td>\n",
       "      <td>18.0</td>\n",
       "      <td>100.0</td>\n",
       "      <td>1.11</td>\n",
       "    </tr>\n",
       "    <tr>\n",
       "      <th>x[3]</th>\n",
       "      <td>-0.191</td>\n",
       "      <td>1.153</td>\n",
       "      <td>-2.037</td>\n",
       "      <td>2.126</td>\n",
       "      <td>0.167</td>\n",
       "      <td>0.119</td>\n",
       "      <td>48.0</td>\n",
       "      <td>48.0</td>\n",
       "      <td>49.0</td>\n",
       "      <td>95.0</td>\n",
       "      <td>1.09</td>\n",
       "    </tr>\n",
       "    <tr>\n",
       "      <th>x[4]</th>\n",
       "      <td>0.240</td>\n",
       "      <td>2.074</td>\n",
       "      <td>-3.891</td>\n",
       "      <td>3.796</td>\n",
       "      <td>0.421</td>\n",
       "      <td>0.302</td>\n",
       "      <td>24.0</td>\n",
       "      <td>24.0</td>\n",
       "      <td>24.0</td>\n",
       "      <td>185.0</td>\n",
       "      <td>1.07</td>\n",
       "    </tr>\n",
       "  </tbody>\n",
       "</table>\n",
       "</div>"
      ],
      "text/plain": [
       "       mean     sd  hdi_3%  hdi_97%  mcse_mean  mcse_sd  ess_mean  ess_sd  \\\n",
       "x[0]  0.035  0.153  -0.277    0.283      0.033    0.023      22.0    22.0   \n",
       "x[1] -0.023  0.557  -1.023    1.060      0.069    0.049      65.0    65.0   \n",
       "x[2] -0.131  0.621  -1.251    1.042      0.146    0.105      18.0    18.0   \n",
       "x[3] -0.191  1.153  -2.037    2.126      0.167    0.119      48.0    48.0   \n",
       "x[4]  0.240  2.074  -3.891    3.796      0.421    0.302      24.0    24.0   \n",
       "\n",
       "      ess_bulk  ess_tail  r_hat  \n",
       "x[0]      22.0     136.0   1.08  \n",
       "x[1]      64.0      93.0   1.02  \n",
       "x[2]      18.0     100.0   1.11  \n",
       "x[3]      49.0      95.0   1.09  \n",
       "x[4]      24.0     185.0   1.07  "
      ]
     },
     "execution_count": 1,
     "metadata": {},
     "output_type": "execute_result"
    }
   ],
   "source": [
    "pm.summary(trace).head()"
   ]
  },
  {
   "cell_type": "code",
   "execution_count": 8,
   "metadata": {
    "execution": {
     "iopub.execute_input": "2020-10-06T15:34:33.845410Z",
     "iopub.status.busy": "2020-10-06T15:34:33.844856Z",
     "iopub.status.idle": "2020-10-06T15:34:33.937438Z",
     "shell.execute_reply": "2020-10-06T15:34:33.938005Z"
    }
   },
   "outputs": [
    {
     "data": {
      "text/html": [
       "<div>\n",
       "<style scoped>\n",
       "    .dataframe tbody tr th:only-of-type {\n",
       "        vertical-align: middle;\n",
       "    }\n",
       "\n",
       "    .dataframe tbody tr th {\n",
       "        vertical-align: top;\n",
       "    }\n",
       "\n",
       "    .dataframe thead th {\n",
       "        text-align: right;\n",
       "    }\n",
       "</style>\n",
       "<table border=\"1\" class=\"dataframe\">\n",
       "  <thead>\n",
       "    <tr style=\"text-align: right;\">\n",
       "      <th></th>\n",
       "      <th>mean</th>\n",
       "      <th>sd</th>\n",
       "      <th>hdi_3%</th>\n",
       "      <th>hdi_97%</th>\n",
       "      <th>mcse_mean</th>\n",
       "      <th>mcse_sd</th>\n",
       "      <th>ess_mean</th>\n",
       "      <th>ess_sd</th>\n",
       "      <th>ess_bulk</th>\n",
       "      <th>ess_tail</th>\n",
       "      <th>r_hat</th>\n",
       "    </tr>\n",
       "  </thead>\n",
       "  <tbody>\n",
       "    <tr>\n",
       "      <th>x[0]</th>\n",
       "      <td>-0.003</td>\n",
       "      <td>0.163</td>\n",
       "      <td>-0.307</td>\n",
       "      <td>0.314</td>\n",
       "      <td>0.004</td>\n",
       "      <td>0.004</td>\n",
       "      <td>1834.0</td>\n",
       "      <td>963.0</td>\n",
       "      <td>1820.0</td>\n",
       "      <td>1357.0</td>\n",
       "      <td>1.0</td>\n",
       "    </tr>\n",
       "    <tr>\n",
       "      <th>x[1]</th>\n",
       "      <td>0.006</td>\n",
       "      <td>0.535</td>\n",
       "      <td>-0.989</td>\n",
       "      <td>1.001</td>\n",
       "      <td>0.011</td>\n",
       "      <td>0.012</td>\n",
       "      <td>2496.0</td>\n",
       "      <td>1070.0</td>\n",
       "      <td>2495.0</td>\n",
       "      <td>1656.0</td>\n",
       "      <td>1.0</td>\n",
       "    </tr>\n",
       "    <tr>\n",
       "      <th>x[2]</th>\n",
       "      <td>0.007</td>\n",
       "      <td>0.653</td>\n",
       "      <td>-1.253</td>\n",
       "      <td>1.221</td>\n",
       "      <td>0.015</td>\n",
       "      <td>0.015</td>\n",
       "      <td>1922.0</td>\n",
       "      <td>966.0</td>\n",
       "      <td>1931.0</td>\n",
       "      <td>1457.0</td>\n",
       "      <td>1.0</td>\n",
       "    </tr>\n",
       "    <tr>\n",
       "      <th>x[3]</th>\n",
       "      <td>0.005</td>\n",
       "      <td>1.175</td>\n",
       "      <td>-2.088</td>\n",
       "      <td>2.335</td>\n",
       "      <td>0.025</td>\n",
       "      <td>0.026</td>\n",
       "      <td>2172.0</td>\n",
       "      <td>1056.0</td>\n",
       "      <td>2161.0</td>\n",
       "      <td>1523.0</td>\n",
       "      <td>1.0</td>\n",
       "    </tr>\n",
       "    <tr>\n",
       "      <th>x[4]</th>\n",
       "      <td>0.026</td>\n",
       "      <td>2.066</td>\n",
       "      <td>-3.604</td>\n",
       "      <td>4.135</td>\n",
       "      <td>0.044</td>\n",
       "      <td>0.044</td>\n",
       "      <td>2186.0</td>\n",
       "      <td>1090.0</td>\n",
       "      <td>2156.0</td>\n",
       "      <td>1496.0</td>\n",
       "      <td>1.0</td>\n",
       "    </tr>\n",
       "  </tbody>\n",
       "</table>\n",
       "</div>"
      ],
      "text/plain": [
       "       mean     sd  hdi_3%  hdi_97%  mcse_mean  mcse_sd  ess_mean  ess_sd  \\\n",
       "x[0] -0.003  0.163  -0.307    0.314      0.004    0.004    1834.0   963.0   \n",
       "x[1]  0.006  0.535  -0.989    1.001      0.011    0.012    2496.0  1070.0   \n",
       "x[2]  0.007  0.653  -1.253    1.221      0.015    0.015    1922.0   966.0   \n",
       "x[3]  0.005  1.175  -2.088    2.335      0.025    0.026    2172.0  1056.0   \n",
       "x[4]  0.026  2.066  -3.604    4.135      0.044    0.044    2186.0  1090.0   \n",
       "\n",
       "      ess_bulk  ess_tail  r_hat  \n",
       "x[0]    1820.0    1357.0    1.0  \n",
       "x[1]    2495.0    1656.0    1.0  \n",
       "x[2]    1931.0    1457.0    1.0  \n",
       "x[3]    2161.0    1523.0    1.0  \n",
       "x[4]    2156.0    1496.0    1.0  "
      ]
     },
     "execution_count": 1,
     "metadata": {},
     "output_type": "execute_result"
    }
   ],
   "source": [
    "pm.summary(tracex).head()"
   ]
  },
  {
   "cell_type": "markdown",
   "metadata": {},
   "source": [
    "In this particular case, you could get similar performance using the `init=\"adapt_full\"` argument to the `sample` function in PyMC3, but the implementation in `pymc3-ext` is somewhat more flexible.\n",
    "Specifically, `pymc3_ext` implements a tuning procedure that it more similar to [the one implemented by the Stan project](https://mc-stan.org/docs/2_24/reference-manual/hmc-algorithm-parameters.html).\n",
    "The relevant parameters are:\n",
    "\n",
    "- `warmup_window`: The length of the initial \"fast\" window. This is called \"initial buffer\" in the Stan docs.\n",
    "- `adapt_window`: The length of the initial \"slow\" window. This is called \"window\" in the Stan docs.\n",
    "- `cooldown_window`: The length of the final \"fast\" window. This is called \"term buffer\" in the Stan docs.\n",
    "\n",
    "Unlike the Stan implementation, here we have support for updating the mass matrix estimate every `recompute_interval` steps based on the previous window and all the steps in the current window so far.\n",
    "This can improve warm up performance substantially so the default value is `1`, but this might be intractable for high dimensional models.\n",
    "To only recompute the estimate at the end of each window, set `recompute_interval=0`.\n",
    "\n",
    "If you run into numerical issues, you can try increasing `adapt_window` or use the `regularization_steps`and `regularization_variance` to regularize the mass matrix estimator.\n",
    "The `regularization_steps` parameter sets the effective number of steps that are used for regularization and `regularization_variance` is the effective variance for those steps."
   ]
  },
  {
   "cell_type": "markdown",
   "metadata": {},
   "source": [
    "## Parameter groups\n",
    "\n",
    "If you are fitting a model with a large number of parameters, it might not be computationally or numerically tractable to estimate the full dense mass matrix.\n",
    "But, sometimes you might know something about the covariance structure of the problem that you can exploit.\n",
    "Perhaps some parameters are correlated with each other, but not with others.\n",
    "In this case, you can use the `parameter_groups` argument to exploit this structure.\n",
    "\n",
    "Here is an example where `x`, `y`, and `z` are all independent with different covariance structure.\n",
    "We can take advantage of this structure using `pmx.ParameterGroup` specifications in the `parameter_groups` argument.\n",
    "Note that by default each group will internally estimate a dense mass matrix, but here we specifically only estimate a diagonal mass matrix for `z`."
   ]
  },
  {
   "cell_type": "code",
   "execution_count": 9,
   "metadata": {
    "execution": {
     "iopub.execute_input": "2020-10-06T15:34:33.955953Z",
     "iopub.status.busy": "2020-10-06T15:34:33.952425Z",
     "iopub.status.idle": "2020-10-06T15:35:12.229483Z",
     "shell.execute_reply": "2020-10-06T15:35:12.230072Z"
    }
   },
   "outputs": [
    {
     "name": "stderr",
     "output_type": "stream",
     "text": [
      "Multiprocess sampling (2 chains in 2 jobs)\n"
     ]
    },
    {
     "name": "stderr",
     "output_type": "stream",
     "text": [
      "NUTS: [z, y, x]\n"
     ]
    },
    {
     "data": {
      "text/html": [
       "\n",
       "    <div>\n",
       "        <style>\n",
       "            /* Turns off some styling */\n",
       "            progress {\n",
       "                /* gets rid of default border in Firefox and Opera. */\n",
       "                border: none;\n",
       "                /* Needs to be in here for Safari polyfill so background images work as expected. */\n",
       "                background-size: auto;\n",
       "            }\n",
       "            .progress-bar-interrupted, .progress-bar-interrupted::-webkit-progress-bar {\n",
       "                background: #F44336;\n",
       "            }\n",
       "        </style>\n",
       "      <progress value='4000' class='' max='4000' style='width:300px; height:20px; vertical-align: middle;'></progress>\n",
       "      100.00% [4000/4000 00:14<00:00 Sampling 2 chains, 0 divergences]\n",
       "    </div>\n",
       "    "
      ],
      "text/plain": [
       "<IPython.core.display.HTML object>"
      ]
     },
     "metadata": {},
     "output_type": "display_data"
    },
    {
     "name": "stderr",
     "output_type": "stream",
     "text": [
      "Sampling 2 chains for 1_000 tune and 1_000 draw iterations (2_000 + 2_000 draws total) took 15 seconds.\n"
     ]
    }
   ],
   "source": [
    "with pm.Model():\n",
    "    x = pm.MvNormal(\"x\", mu=np.zeros(ndim), chol=L, shape=ndim)\n",
    "    y = pm.MvNormal(\"y\", mu=np.zeros(ndim), chol=L, shape=ndim)\n",
    "    z = pm.Normal(\"z\", shape=ndim)  # Uncorrelated\n",
    "\n",
    "    tracex2 = pmx.sample(\n",
    "        tune=1000,\n",
    "        draws=1000,\n",
    "        chains=2,\n",
    "        cores=2,\n",
    "        parameter_groups=[\n",
    "            [x],\n",
    "            [y],\n",
    "            pmx.ParameterGroup([z], \"diag\"),\n",
    "        ],\n",
    "    )"
   ]
  },
  {
   "cell_type": "code",
   "execution_count": null,
   "metadata": {},
   "outputs": [],
   "source": []
  }
 ],
 "metadata": {
  "kernelspec": {
   "display_name": "Python 3",
   "language": "python",
   "name": "python3"
  },
  "language_info": {
   "codemirror_mode": {
    "name": "ipython",
    "version": 3
   },
   "file_extension": ".py",
   "mimetype": "text/x-python",
   "name": "python",
   "nbconvert_exporter": "python",
   "pygments_lexer": "ipython3",
   "version": "3.8.5"
  }
 },
 "nbformat": 4,
 "nbformat_minor": 4
}
